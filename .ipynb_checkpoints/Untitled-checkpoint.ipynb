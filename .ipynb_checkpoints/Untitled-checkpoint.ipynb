{
 "cells": [
  {
   "cell_type": "code",
   "execution_count": 1,
   "id": "afd47f73",
   "metadata": {},
   "outputs": [
    {
     "name": "stdout",
     "output_type": "stream",
     "text": [
      "상품명: 로랜텍 커널형 버즈 <b>무선</b> 블루투스 <b>이어폰</b> RSM-R510, 링크: https://search.shopping.naver.com/catalog/43412167618\n",
      "상품명: 원모어 Q10K, 링크: https://search.shopping.naver.com/catalog/50130086618\n",
      "상품명: 브리츠 StormTWS7, 링크: https://search.shopping.naver.com/catalog/30242811618\n",
      "상품명: 삼성전자 갤럭시 버즈3 SM-R530N, 링크: https://search.shopping.naver.com/catalog/49071446619\n",
      "상품명: 삼성전자 갤럭시 버즈2 프로 SM-R510, 링크: https://search.shopping.naver.com/catalog/34108100618\n",
      "상품명: 엠지텍 이어프리오픈 오픈형 <b>이어폰</b>, 링크: https://search.shopping.naver.com/catalog/44250622618\n",
      "상품명: 엠지텍 이어프리W 골전도<b>이어폰</b>, 링크: https://search.shopping.naver.com/catalog/44390005618\n",
      "상품명: 브리츠 Fit9Pro, 링크: https://search.shopping.naver.com/catalog/51135743618\n",
      "상품명: Apple 에어팟 4 액티브 노이즈 캔슬링 MXP93KH/A, 링크: https://search.shopping.naver.com/catalog/50256980623\n",
      "상품명: 라익미 LE60 사운드미 골전도 오픈형 블루투스 AI <b>이어폰</b>, 링크: https://search.shopping.naver.com/catalog/50913714618\n"
     ]
    }
   ],
   "source": [
    "import requests\n",
    "import json\n",
    "\n",
    "# 네이버 API 키 설정\n",
    "client_id = \"T3xJlimKqJrEwhcK6VTd\"\n",
    "client_secret = \"uqGAxFqUDv\"\n",
    "\n",
    "# 검색어 설정 (예: '무선 이어폰')\n",
    "query = \"무선 이어폰\"\n",
    "url = f\"https://openapi.naver.com/v1/search/shop.json?query={query}&display=10\"\n",
    "\n",
    "# API 요청 헤더\n",
    "headers = {\n",
    "    \"X-Naver-Client-Id\": client_id,\n",
    "    \"X-Naver-Client-Secret\": client_secret\n",
    "}\n",
    "\n",
    "# API 요청 보내기\n",
    "response = requests.get(url, headers=headers)\n",
    "\n",
    "# JSON 데이터 출력\n",
    "if response.status_code == 200:\n",
    "    data = response.json()\n",
    "    for item in data['items']:\n",
    "        print(f\"상품명: {item['title']}, 링크: {item['link']}\")\n",
    "else:\n",
    "    print(f\"Error: {response.status_code}\")"
   ]
  },
  {
   "cell_type": "code",
   "execution_count": 3,
   "id": "ab12aad7",
   "metadata": {},
   "outputs": [
    {
     "name": "stdout",
     "output_type": "stream",
     "text": [
      "Error: 429\n"
     ]
    }
   ],
   "source": [
    "import time\n",
    "from bs4 import BeautifulSoup\n",
    "import requests\n",
    "\n",
    "# 특정 상품의 URL (위에서 가져온 item['link'] 값 사용)\n",
    "product_url = \"https://smartstore.naver.com/example_product\"\n",
    "\n",
    "# 크롤링 요청\n",
    "headers = {\"User-Agent\": \"Mozilla/5.0\"}\n",
    "response = requests.get(product_url, headers=headers)\n",
    "\n",
    "# HTML 파싱\n",
    "if response.status_code == 200:\n",
    "    soup = BeautifulSoup(response.text, \"html.parser\")\n",
    "    \n",
    "    # 리뷰 데이터 탐색 (리뷰가 있는 태그 확인 필요)\n",
    "    reviews = soup.find_all(\"span\", class_=\"review-text\")  # 예시 클래스명\n",
    "    \n",
    "    for i in range(10):  # 여러 개의 상품을 크롤링하는 경우\n",
    "        response = requests.get(product_url, headers=headers)\n",
    "        print(response.status_code)\n",
    "        time.sleep(3)  # 3초 쉬고 다음 요청 보내기\n",
    "else:\n",
    "    print(f\"Error: {response.status_code}\")\n"
   ]
  }
 ],
 "metadata": {
  "kernelspec": {
   "display_name": "Python 3 (ipykernel)",
   "language": "python",
   "name": "python3"
  },
  "language_info": {
   "codemirror_mode": {
    "name": "ipython",
    "version": 3
   },
   "file_extension": ".py",
   "mimetype": "text/x-python",
   "name": "python",
   "nbconvert_exporter": "python",
   "pygments_lexer": "ipython3",
   "version": "3.10.9"
  },
  "toc": {
   "base_numbering": 1,
   "nav_menu": {},
   "number_sections": true,
   "sideBar": true,
   "skip_h1_title": false,
   "title_cell": "Table of Contents",
   "title_sidebar": "Contents",
   "toc_cell": false,
   "toc_position": {},
   "toc_section_display": true,
   "toc_window_display": false
  }
 },
 "nbformat": 4,
 "nbformat_minor": 5
}
