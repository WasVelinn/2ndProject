{
 "cells": [
  {
   "cell_type": "code",
   "execution_count": 2,
   "id": "7eefb136",
   "metadata": {},
   "outputs": [],
   "source": [
    "import time\n",
    "import requests\n",
    "from time import sleep\n",
    "import re, csv\n",
    "from bs4 import BeautifulSoup\n",
    "from selenium.webdriver.common.keys import Keys\n",
    "import pandas as pd\n",
    "from selenium import webdriver"
   ]
  },
  {
   "cell_type": "code",
   "execution_count": 3,
   "id": "96aa4032",
   "metadata": {},
   "outputs": [],
   "source": [
    "url = \"https://shopping.naver.com/ns/home\""
   ]
  },
  {
   "cell_type": "code",
   "execution_count": 6,
   "id": "827460b5",
   "metadata": {},
   "outputs": [],
   "source": [
    "driver = webdriver.Chrome()\n",
    "driver.get(url)"
   ]
  },
  {
   "cell_type": "code",
   "execution_count": 28,
   "id": "b41e3513",
   "metadata": {},
   "outputs": [
    {
     "data": {
      "text/plain": [
       "[]"
      ]
     },
     "execution_count": 28,
     "metadata": {},
     "output_type": "execute_result"
    }
   ],
   "source": [
    "headers = {'User-Agent' : 'Mozilla/5.0 (Windows NT 10.0; Win64; x64)AppleWebKit/537.36 (KHTML, like Gecko) Chrome/73.0.3683.86 Safari/537.36'}\n",
    "url = \"https://shoppinghow.kakao.com/search/%ED%97%A4%EB%93%9C%ED%8F%B0\"\n",
    "\n",
    "data = requests.get(url, headers=headers)\n",
    "\n",
    "soup = BeautifulSoup(data.text, 'html.parser')\n",
    "\n",
    "soup.select(\"div.wrap_cont > strong.tit_g > a.link_g\")"
   ]
  },
  {
   "cell_type": "code",
   "execution_count": 27,
   "id": "14292596",
   "metadata": {},
   "outputs": [
    {
     "data": {
      "text/plain": [
       "[]"
      ]
     },
     "execution_count": 27,
     "metadata": {},
     "output_type": "execute_result"
    }
   ],
   "source": [
    "soup = BeautifulSoup(data.text, 'html.parser')\n",
    "\n",
    "soup.select('div.wrap_cont>a.link_g')"
   ]
  },
  {
   "cell_type": "code",
   "execution_count": 25,
   "id": "4267d29b",
   "metadata": {
    "scrolled": true
   },
   "outputs": [
    {
     "name": "stdout",
     "output_type": "stream",
     "text": [
      "<!DOCTYPE html>\n",
      "<html lang=\"ko\">\n",
      "<head>\n",
      "\t<meta charset=\"UTF-8\">\n",
      "\t<meta http-equiv=\"X-UA-Compatible\" content=\"IE=edge\"/>\n",
      "\t\t\t<meta property=\"og:title\" content=\"대한민국 최저가 가격비교 쇼핑! 쇼핑하우\"/>\n",
      "    <meta property=\"og:image\"\n",
      "          content=\"//shop.daumcdn.net/shophow/front/kakaocommerce_shopping.png\"/>\n",
      "\t<meta property=\"og:description\" content=\"쇼핑하우는 대한민국 온라인 쇼핑몰들의 상품 정보를 모두 모아 한번에 가격비교가 가능한, 최저가 가격비교 서비스 입니다.\"/>\n",
      "\t<title>쇼핑하우</title>\n",
      "\t\t\t\t\t\t<link rel=\"stylesheet\" type=\"text/css\" href=\"//t1.daumcdn.net/shophow_cssjs/kakao/pc-gnb.86433e8d54025c27b396.css\">\n",
      "            <link rel=\"stylesheet\" type=\"text/css\" href=\"//t1.daumcdn.net/shophow_cssjs/kakao/pc-search.86433e8d54025c27b396.css\">\n",
      "\t\t\t\n",
      "\t<script type=\"text/javascript\" src=\"//t1.daumcdn.net/tiara/js/v1/tiara.min.js\"></script>\n",
      "</head>\n",
      "<body>\n",
      "<div id=\"daumIndex\">\n",
      "\t<a href=\"#daumBody\">본문 바로가기</a>\n",
      "\t<a href=\"#daumGnb\">메뉴 바로가기</a>\n",
      "</div>\n",
      "<div id=\"daumWrap\" class=\"shopping_type5\">\n",
      "\t<script>\n",
      "\t\tdocument.getElementById(\"daumWrap\").className += (window.innerWidth || document.documentElement.clientWidth || document.body.clientWidth) > 1280 ? ' wide_layout' : '';\n",
      "\t</script>\n",
      "\t\t<div id=\"kakaoHead\" role=\"banner\" class=\"head_shw\"></div>\n",
      "<div id=\"daumHead\" role=\"banner\" class=\"#gnb\"></div>\n",
      "<hr class=\"screen_out\">\n",
      "\n",
      "<div id=\"HeaderDummy\" class=\"hide\" style=\"width:100%;height:187px;\">&nbsp;</div>\t<div id=\"daumContent\" data-gg=\"{s1:shopping}\">\n",
      "\t\t<div id=\"cMain\">\n",
      "\t\t\t<div id=\"mArticle\" role=\"main\">\n",
      "\t\t\t\t<h2 id=\"daumBody\" class=\"screen_out\">검색결과</h2>\n",
      "\n",
      "\t\t\t\t<div class=\"wrap_srch_res\">\n",
      "\t\t\t\t\t<div id=\"searchBox\" class=\"box_search\">\n",
      "\t\t\t\t\t\t<p style=\"height:500px;line-height:500px;text-align:center;\">\n",
      "\t\t\t\t\t\t\t\t\t\t\t\t\t</p>\n",
      "\t\t\t\t\t</div>\n",
      "\t\t\t\t\t<div id=\"searchClickProduct\" class=\"click_item\" style=\"display: none\"></div>\n",
      "\t\t\t\t\t<div id=\"searchBrandProd\" class=\"info_similar info_newprod\" style=\"display: none\"></div>\n",
      "\t\t\t\t\t<div id=\"searchContent\" class=\"search_result\">\n",
      "\t\t\t\t\t\t<div id=\"contEtc\" class=\"cont_etc\">\n",
      "\t\t\t\t\t\t\t<div id=\"nativeAdWrap\" class=\"wrap_nativead\"></div>\n",
      "\t\t\t\t\t\t\t<div id=\"sohoResultWrap\" class=\"soho_result\"></div>\n",
      "\t\t\t\t\t\t\t<div id=\"similarProdWrap\" class=\"info_similar\"></div>\n",
      "\t\t\t\t\t\t\t<div class=\"recent_view\" id=\"recentProdView\" style=\"display: none;\"></div>\n",
      "\t\t\t\t\t\t\t<div id=\"rightContentbox\" class=\"cont_relation\" style=\"display: none;\"></div>\n",
      "\t\t\t\t\t\t\t<div class=\"today_shopping\" id=\"todayShoppingbox\"></div>\n",
      "\t\t\t\t\t\t</div>\n",
      "\t\t\t\t\t</div>\n",
      "\t\t\t\t</div>\n",
      "\t\t\t</div>\n",
      "\t\t</div>\n",
      "\t\t<div id=\"cEtc\" style=\"display:none\">\n",
      "\t\t\t<div class=\"#barbanner bnr_item\" style=\"display:none\"></div>\n",
      "\t\t\t<div class=\"#partner wrap_shopping_partner _GL\" data-gg=\"{lk:pctop_partner}\"></div>\n",
      "\t\t\t<div class=\"#notice wrap_notice\"></div>\n",
      "\t\t</div>\n",
      "\t</div>\n",
      "\n",
      "\n",
      "\n",
      "\t\n",
      "<hr class=\"screen_out\">\n",
      "<!-- // daumContent -->\n",
      "<div class='left_banner' id='leftWingBanner'></div>\n",
      "<!-- // quick menu -->\n",
      "<div id=\"daumFoot\" class=\"#footer\" role=\"contentinfo\" style=\"display:none\">\n",
      "\n",
      "</div>\n",
      "<hr class=\"screen_out\">\n",
      "<!-- // daumFoot -->\n",
      "<div id=\"wrapMinidaum\" data-gg=\"{lk:pc_gnb_minidaum}\"></div>\n",
      "<a href=\"#top\" class=\"btn_follow\"><span class=\"ico_home ico_follow\">TOP</span></a>\n",
      "</div>\n",
      "<div id=\"ExpandLayer\" class=\"shopping_layer expand_layer _GL\" data-gg=\"{lk:pc_search_proddetail}\" style=\"display:none; margin-top:60px;margin-left:-482px\"></div>\n",
      "<div id=\"LikenessLayer\" class=\"shopping_layer likeness_layer _GL\" data-gg=\"{lk:pc_search_sameprod}\" style=\"display:none; margin-top:60px;margin-left:-482px\"></div>\n",
      "\n",
      "\t\t        <script type=\"text/javascript\">\n",
      "\tvar DEFAULTURL = \"/\";\n",
      "\tvar SERVERNAME = \"front\";\n",
      "\tvar ADMINYN = \"N\"; \tvar ADMINLOGINID = \"\"; \tvar TEMPLATE = {};\n",
      "\tvar ASYNC = \"N\";\n",
      "\tvar SERVERDATE = \"20250211\"; \tvar LOGIN = \"N\";\n",
      "\t\twindow.roosevelt_params_queue = window.roosevelt_params_queue || [];\n",
      "\tvar ROOSEVELT_CHANNEL = \"shoppinghow\";\n",
      "</script>\n",
      "\n",
      "<iframe src=\"about:blank\" style=\"width:0;height:0;position:absolute\" width=\"0\" height=\"0\" frameborder=\"0\" scrolling=\"no\" name=\"koreanClick\" id=\"koreanClick\" title=\"koreanClick\" ></iframe>\n",
      "<iframe src=\"about:blank\" style=\"width:0;height:0;position:absolute\" width=\"0\" height=\"0\" frameborder=\"0\" scrolling=\"no\" name=\"daBcateIframe\" id=\"daBcateIframe\" title=\"daBcateIframe\" ></iframe>\n",
      "\n",
      "<!--[if lt IE 9]>\n",
      "<script type=\"text/javascript\" src=\"//t1.daumcdn.net/cssjs/jquery/jquery-1.11.1.js\"></script>\n",
      "<script src=\"//t1.daumcdn.net/cssjs/es-shims/es5-shim-4.0.3.min.js\"></script>\n",
      "<![endif]-->\n",
      "\n",
      "\n",
      "<!--[if gte IE 9]><!-->\n",
      "<script type=\"text/javascript\" src=\"//t1.daumcdn.net/cssjs/jquery/jquery-2.1.1.js\"></script>\n",
      "<!--<![endif]-->\n",
      "\n",
      "<script async type=\"text/javascript\" charset=\"utf-8\" src=\"//t1.daumcdn.net/kas/static/ba.min.js\"></script>\n",
      "<script type=\"text/javascript\" charset=\"utf-8\" src=\"//t1.daumcdn.net/kas/static/na.min.js\"></script>\n",
      "\n",
      "\n",
      "<script type=\"text/javascript\" src=\"//t1.daumcdn.net/cssjs/slide/slide-1.2.13.standalone.min.js\"></script>\n",
      "<script type=\"text/javascript\" src=\"//t1.daumcdn.net/cssjs/animation/animation-0.2.5.min.js\"></script>\n",
      "<script type=\"text/javascript\" src=\"//t1.daumcdn.net/cssjs/slide/extensions/pc_slide-0.1.0.merged.js\"></script>\n",
      "\n",
      "\t<script type=\"text/javascript\" src=\"//t1.daumcdn.net/shophow_cssjs/steve/js/shopping.common.min.v1722213651380.js\"></script>\n",
      "\t\n",
      "<script type=\"text/javascript\" src=\"https://t1.daumcdn.net/shophow_cssjs/utils/bundle.min.js\"\n",
      "\t\tintegrity=\"sha384-ds3MEkwHMg1Vl0XMXl86pZU3gIntwqCNJtYn0etV2sTjuKLdqrtEKFzCwgj3uzcL\"\n",
      "\t\tcrossorigin=\"anonymous\"></script>\n",
      "<script type=\"text/javascript\">\n",
      "\ttry {\n",
      "\t\tSentry.init({\n",
      "\t\t\tdsn: \"https://443a8c22470d45bbb6a7bc1657516eef@aem-ingest.onkakao.net/15564\",         // DSN\n",
      "\t\t\t// release: '{release}'  // 릴리즈 정보 입력은 선택\n",
      "\t\t\t// integrations: new Sentry.BrowserTracing(),\n",
      "\t\t\t// integrations: [\n",
      "\t\t\t// \t\tnew Sentry.BrowserTracing({\n",
      "\t\t\t// \t\ttracingOrigins: [\"shaheen.devel.kakao.com\"],\n",
      "\t\t\t// \t}),\n",
      "\t\t\t// ],\n",
      "\t\t\ttracingOptions: { // 하위 구성 요소를 추적하고 렌더링 프로세스에 대한 자세한 내용을 보기\n",
      "\t\t\t\ttrackComponents: true,\n",
      "\t\t\t},\n",
      "\t\t\ttracesSampleRate: 1.0,\n",
      "\t\t});\n",
      "\t}catch(e){}\n",
      "\n",
      "</script>\n",
      "\t<script type=\"module\" crossorigin src=\"https://t1.daumcdn.net/shophow_cssjs/daumshop/js/ad-component.DjLmUiWwnw.js\"></script>\n",
      "\t\t\t\n",
      "\t\t<script type=\"text/javascript\" src=\"//t1.daumcdn.net/shophow_cssjs/kakao/vendor.merged.86433e8d54025c27b396.js\"></script>\n",
      "\t\t<script type=\"text/javascript\" src=\"//t1.daumcdn.net/shophow_cssjs/kakao/pc.merged.86433e8d54025c27b396.js\"></script>\n",
      "\t\t<script type=\"text/javascript\" src=\"//t1.daumcdn.net/shophow_cssjs/kakao/pc-gnb.merged.86433e8d54025c27b396.js\"></script>\n",
      "\t\t<script type=\"text/javascript\" src=\"//t1.daumcdn.net/shophow_cssjs/kakao/pc-search.merged.86433e8d54025c27b396.js\"></script>\n",
      "\t\t<script type=\"text/javascript\" src=\"//t1.daumcdn.net/shophow_cssjs/kakao/pc-footer.merged.86433e8d54025c27b396.js\"></script>\n",
      "\n",
      "\t\t\t\n",
      "\n",
      "<script type=\"text/javascript\">\n",
      "\t//init search\n",
      "\t// Shopping.routes[\"search\"] = new SearchRouter();\n",
      "\t// Backbone.history.start({root: \"/\", pushState: true});\n",
      "\n",
      "</script>\n",
      "\t\t</body>\n",
      "</html>\n"
     ]
    }
   ],
   "source": [
    "print(data.text)"
   ]
  },
  {
   "cell_type": "code",
   "execution_count": 22,
   "id": "7f90c486",
   "metadata": {
    "scrolled": true
   },
   "outputs": [
    {
     "name": "stdout",
     "output_type": "stream",
     "text": [
      "소니 WH-CH720N\n",
      "BOSE QC 울트라 헤드폰\n",
      "소니 WH-1000XM5\n",
      "브리츠 BT4000 ANC\n",
      "BOSE QC 울트라 헤드폰 60주년 다이아몬드 에디션\n",
      "아이리버 IBH-L201\n",
      "소니 WH-CH520\n",
      "JBL TUNE 520BT\n",
      "소니 MDR-ZX110\n",
      "QCY H3 Pro\n",
      "브리츠 BT3000\n",
      "QCY H3\n",
      "QCY H2\n",
      "애플 에어팟 맥스\n",
      "브리츠 W4BT ANC\n",
      "마샬 메이저 5\n",
      "브리츠 ANC1000XL4\n",
      "브리츠 BT3500\n",
      "BOSE QC 45\n",
      "마샬 메이저 4\n",
      "브리츠 W800BT Qplus\n",
      "소니 ULT WEAR WH-ULT900N\n",
      "JBL TUNE 720BT\n",
      "B&W Px8\n",
      "젠하이저 모멘텀 4 와이어리스 M4AEBT\n",
      "브리츠 BT6000 ANC\n",
      "뱅앤올룹슨 Beoplay HX\n",
      "브리츠 BT5000 ANC\n",
      "뱅앤올룹슨 Beoplay H100\n",
      "소니 MDR-7506\n",
      "야마하 HPH-50\n",
      "AKG N9 HYBRID\n",
      "QCY H4\n",
      "JBL TOUR ONE M2\n",
      "BOSE QC\n",
      "젠하이저 엑센텀 ACAEBT\n",
      "애플 에어팟 맥스 USB-C\n",
      "오디오테크니카 ATH-ADX3000\n",
      "ANKER Soundcore Space Q45 A3040\n",
      "벨킨 사운드폼 미니 어린이 무선 헤드폰 AUD002V3\n"
     ]
    }
   ],
   "source": [
    "from selenium import webdriver\n",
    "from selenium.webdriver.common.by import By\n",
    "from selenium.webdriver.chrome.service import Service\n",
    "from webdriver_manager.chrome import ChromeDriverManager\n",
    "import time\n",
    "\n",
    "# 크롬 드라이버 설정 (자동 다운로드)\n",
    "options = webdriver.ChromeOptions()\n",
    "# options.add_argument(\"--headless\")  # 화면 없이 실행 (백그라운드 실행)\n",
    "options.add_argument(\"--disable-blink-features=AutomationControlled\")  # 자동화 탐지 방지\n",
    "options.add_argument(\"user-agent=Mozilla/5.0 (Windows NT 10.0; Win64; x64) AppleWebKit/537.36 (KHTML, like Gecko) Chrome/73.0.3683.86 Safari/537.36\")\n",
    "\n",
    "# 크롬 드라이버 실행\n",
    "driver = webdriver.Chrome(service=Service(ChromeDriverManager().install()), options=options)\n",
    "\n",
    "# 카카오 쇼핑하우 페이지 접속\n",
    "url = \"https://shoppinghow.kakao.com/search/%ED%97%A4%EB%93%9C%ED%8F%B0\"\n",
    "driver.get(url)\n",
    "\n",
    "# 페이지 로딩 대기 (최소 3초 이상)\n",
    "time.sleep(5)\n",
    "\n",
    "# 상품 제목 가져오기\n",
    "items = driver.find_elements(By.CSS_SELECTOR, \"div.wrap_cont > strong.tit_g > a.link_g\")\n",
    "\n",
    "# 데이터 출력\n",
    "for item in items:\n",
    "    print(item.text)\n",
    "\n",
    "# 드라이버 종료\n",
    "driver.quit()"
   ]
  },
  {
   "cell_type": "code",
   "execution_count": 35,
   "id": "f656d350",
   "metadata": {
    "scrolled": true
   },
   "outputs": [
    {
     "name": "stdout",
     "output_type": "stream",
     "text": [
      "배송은 진짜!! 오래걸렸는데..다..중국어라서 의심도 많이 했는데!!음질도 좋고 맘에 들어요^^\n",
      "배송은 좀걸렸지만\n",
      "해외 직구 배송이라 시간은 조금 걸렸지만 기다린 보람이 있어요 색상도 이쁘고 소리의 울림도 느낌 좋아요\n",
      "가성비 훌륭하네요, 직구라 배송은 조금 걸림.\n",
      "빠른 배송 감사합니다. 잘 받았습니다.\n",
      "헤드폰\n",
      "상품 품질이 좋습니다. 마음에 들어요\n",
      "너무 오래걸렸어요. 설명서도 다 중국어고요\n",
      "예상보다 빨리 왔습니다 감사합니다\n",
      "빠른배송 감사합니다\n"
     ]
    }
   ],
   "source": [
    "from selenium import webdriver\n",
    "from selenium.webdriver.common.by import By\n",
    "from selenium.webdriver.chrome.service import Service\n",
    "from webdriver_manager.chrome import ChromeDriverManager\n",
    "import time\n",
    "\n",
    "# 크롬 드라이버 설정 (자동 다운로드)\n",
    "options = webdriver.ChromeOptions()\n",
    "# options.add_argument(\"--headless\")  # 화면 없이 실행 (백그라운드 실행)\n",
    "options.add_argument(\"--disable-blink-features=AutomationControlled\")  # 자동화 탐지 방지\n",
    "options.add_argument(\"user-agent=Mozilla/5.0 (Windows NT 10.0; Win64; x64) AppleWebKit/537.36 (KHTML, like Gecko) Chrome/73.0.3683.86 Safari/537.36\")\n",
    "\n",
    "# 크롬 드라이버 실행\n",
    "driver = webdriver.Chrome(service=Service(ChromeDriverManager().install()), options=options)\n",
    "\n",
    "# 카카오 쇼핑하우 페이지 접속\n",
    "url = \"https://shoppinghow.kakao.com/siso/p/product/D5121081122/cateid:100102133101&pricegroupid:&q:%ED%97%A4%EB%93%9C%ED%8F%B0\"\n",
    "driver.get(url)\n",
    "\n",
    "# 페이지 로딩 대기 (최소 3초 이상)\n",
    "time.sleep(5)\n",
    "\n",
    "# 상품 제목 가져오기\n",
    "items = driver.find_elements(By.CSS_SELECTOR, \"ul.list_review > li > strong.tit_review\")\n",
    "item_list = []\n",
    "\n",
    "# 데이터 출력\n",
    "for item in items:\n",
    "    print(item.text)\n",
    "    item_list.append(item.text)\n",
    "\n",
    "# 드라이버 종료\n",
    "driver.quit()"
   ]
  },
  {
   "cell_type": "code",
   "execution_count": 37,
   "id": "5991ee50",
   "metadata": {},
   "outputs": [
    {
     "name": "stdout",
     "output_type": "stream",
     "text": [
      "[1, 2, 3, 4, 5, 6, 7, 8, 9, 10, 11, 12]\n",
      "{'배송은': 1, '진짜': 2, '오래걸렸는데': 3, '다': 4, '중국어라서': 5, '의심도': 6, '많이': 7, '했는데': 8, '음질도': 9, '좋고': 10, '맘에': 11, '들어요': 12}\n"
     ]
    }
   ],
   "source": [
    "text = item_list[0]\n",
    "\n",
    "from keras_preprocessing.text import Tokenizer\n",
    "t = Tokenizer()\n",
    "t.fit_on_texts([text])\n",
    "encoded = t.texts_to_sequences([text])[0]\n",
    "print(encoded)\n",
    "print(t.word_index)"
   ]
  },
  {
   "cell_type": "code",
   "execution_count": 4,
   "id": "9ed87299",
   "metadata": {},
   "outputs": [
    {
     "ename": "KeyError",
     "evalue": "'groupName'",
     "output_type": "error",
     "traceback": [
      "\u001b[1;31m---------------------------------------------------------------------------\u001b[0m",
      "\u001b[1;31mKeyError\u001b[0m                                  Traceback (most recent call last)",
      "Cell \u001b[1;32mIn[4], line 36\u001b[0m\n\u001b[0;32m     34\u001b[0m data \u001b[38;5;241m=\u001b[39m response\u001b[38;5;241m.\u001b[39mjson()\n\u001b[0;32m     35\u001b[0m \u001b[38;5;28;01mfor\u001b[39;00m group \u001b[38;5;129;01min\u001b[39;00m data[\u001b[38;5;124m'\u001b[39m\u001b[38;5;124mresults\u001b[39m\u001b[38;5;124m'\u001b[39m]:\n\u001b[1;32m---> 36\u001b[0m     \u001b[38;5;28mprint\u001b[39m(\u001b[38;5;124mf\u001b[39m\u001b[38;5;124m\"\u001b[39m\u001b[38;5;124mGroup Name: \u001b[39m\u001b[38;5;132;01m{\u001b[39;00mgroup[\u001b[38;5;124m'\u001b[39m\u001b[38;5;124mgroupName\u001b[39m\u001b[38;5;124m'\u001b[39m]\u001b[38;5;132;01m}\u001b[39;00m\u001b[38;5;124m\"\u001b[39m)\n\u001b[0;32m     37\u001b[0m     \u001b[38;5;28;01mfor\u001b[39;00m data_point \u001b[38;5;129;01min\u001b[39;00m group[\u001b[38;5;124m'\u001b[39m\u001b[38;5;124mdata\u001b[39m\u001b[38;5;124m'\u001b[39m]:\n\u001b[0;32m     38\u001b[0m         \u001b[38;5;28mprint\u001b[39m(\u001b[38;5;124mf\u001b[39m\u001b[38;5;124m\"\u001b[39m\u001b[38;5;124mDate: \u001b[39m\u001b[38;5;132;01m{\u001b[39;00mdata_point[\u001b[38;5;124m'\u001b[39m\u001b[38;5;124mperiod\u001b[39m\u001b[38;5;124m'\u001b[39m]\u001b[38;5;132;01m}\u001b[39;00m\u001b[38;5;124m - Value: \u001b[39m\u001b[38;5;132;01m{\u001b[39;00mdata_point[\u001b[38;5;124m'\u001b[39m\u001b[38;5;124mvalue\u001b[39m\u001b[38;5;124m'\u001b[39m]\u001b[38;5;132;01m}\u001b[39;00m\u001b[38;5;124m\"\u001b[39m)\n",
      "\u001b[1;31mKeyError\u001b[0m: 'groupName'"
     ]
    }
   ],
   "source": [
    "import requests\n",
    "import json\n",
    "\n",
    "# 네이버 API 클라이언트 ID, 비밀번호 입력\n",
    "client_id = 'RRWhe2nTlGYSQySD51jk'  # 네이버에서 발급받은 Client ID\n",
    "client_secret = 'WWS4a8KnxY'  # 네이버에서 발급받은 Client Secret\n",
    "\n",
    "# 헤더 설정\n",
    "headers = {\n",
    "    'X-Naver-Client-Id': client_id,\n",
    "    'X-Naver-Client-Secret': client_secret\n",
    "}\n",
    "\n",
    "# 네이버 데이터랩 API의 검색어 트렌드 요청 URL\n",
    "url = \"https://openapi.naver.com/v1/datalab/search\"\n",
    "\n",
    "# 요청 본문 (검색어, 날짜 범위 설정)\n",
    "body = {\n",
    "    \"startDate\": \"2023-01-01\",  # 시작 날짜\n",
    "    \"endDate\": \"2023-01-31\",    # 종료 날짜\n",
    "    \"timeUnit\": \"date\",         # 일별 데이터\n",
    "    \"keywordGroups\": [\n",
    "        {\"groupName\": \"스마트폰\", \"keywords\": [\"스마트폰\"]},\n",
    "        {\"groupName\": \"로봇청소기\", \"keywords\": [\"로봇청소기\"]},\n",
    "        {\"groupName\": \"겨울옷\", \"keywords\": [\"겨울옷\"]}\n",
    "    ]\n",
    "}\n",
    "\n",
    "# POST 요청을 통해 데이터 요청\n",
    "response = requests.post(url, headers=headers, json=body)\n",
    "\n",
    "# 응답 데이터 처리\n",
    "if response.status_code == 200:\n",
    "    data = response.json()\n",
    "    for group in data['results']:\n",
    "        print(f\"Group Name: {group['groupName']}\")\n",
    "        for data_point in group['data']:\n",
    "            print(f\"Date: {data_point['period']} - Value: {data_point['value']}\")\n",
    "else:\n",
    "    print(f\"Error: {response.status_code}, {response.text}\")"
   ]
  },
  {
   "cell_type": "code",
   "execution_count": 5,
   "id": "b0fcc311",
   "metadata": {
    "scrolled": true
   },
   "outputs": [
    {
     "data": {
      "text/plain": [
       "{'startDate': '2023-01-01',\n",
       " 'endDate': '2023-01-31',\n",
       " 'timeUnit': 'date',\n",
       " 'results': [{'title': '스마트폰',\n",
       "   'keywords': ['스마트폰'],\n",
       "   'data': [{'period': '2023-01-01', 'ratio': 8.48325},\n",
       "    {'period': '2023-01-02', 'ratio': 8.88458},\n",
       "    {'period': '2023-01-03', 'ratio': 8.08192},\n",
       "    {'period': '2023-01-04', 'ratio': 8.71851},\n",
       "    {'period': '2023-01-05', 'ratio': 9.46581},\n",
       "    {'period': '2023-01-06', 'ratio': 9.1752},\n",
       "    {'period': '2023-01-07', 'ratio': 8.87074},\n",
       "    {'period': '2023-01-08', 'ratio': 8.44173},\n",
       "    {'period': '2023-01-09', 'ratio': 9.47965},\n",
       "    {'period': '2023-01-10', 'ratio': 9.52117},\n",
       "    {'period': '2023-01-11', 'ratio': 9.14752},\n",
       "    {'period': '2023-01-12', 'ratio': 8.19263},\n",
       "    {'period': '2023-01-13', 'ratio': 8.82922},\n",
       "    {'period': '2023-01-14', 'ratio': 9.09216},\n",
       "    {'period': '2023-01-15', 'ratio': 8.37254},\n",
       "    {'period': '2023-01-16', 'ratio': 8.67699},\n",
       "    {'period': '2023-01-17', 'ratio': 8.76003},\n",
       "    {'period': '2023-01-18', 'ratio': 8.9261},\n",
       "    {'period': '2023-01-19', 'ratio': 10.08856},\n",
       "    {'period': '2023-01-20', 'ratio': 7.38998},\n",
       "    {'period': '2023-01-21', 'ratio': 8.41406},\n",
       "    {'period': '2023-01-22', 'ratio': 8.98145},\n",
       "    {'period': '2023-01-23', 'ratio': 8.56628},\n",
       "    {'period': '2023-01-24', 'ratio': 9.71491},\n",
       "    {'period': '2023-01-25', 'ratio': 9.45197},\n",
       "    {'period': '2023-01-26', 'ratio': 8.82922},\n",
       "    {'period': '2023-01-27', 'ratio': 8.08192},\n",
       "    {'period': '2023-01-28', 'ratio': 7.22391},\n",
       "    {'period': '2023-01-29', 'ratio': 8.23415},\n",
       "    {'period': '2023-01-30', 'ratio': 8.76003},\n",
       "    {'period': '2023-01-31', 'ratio': 8.56628}]},\n",
       "  {'title': '로봇청소기',\n",
       "   'keywords': ['로봇청소기'],\n",
       "   'data': [{'period': '2023-01-01', 'ratio': 91.5029},\n",
       "    {'period': '2023-01-02', 'ratio': 84.26515},\n",
       "    {'period': '2023-01-03', 'ratio': 79.75366},\n",
       "    {'period': '2023-01-04', 'ratio': 85.28923},\n",
       "    {'period': '2023-01-05', 'ratio': 73.66454},\n",
       "    {'period': '2023-01-06', 'ratio': 78.07915},\n",
       "    {'period': '2023-01-07', 'ratio': 83.80846},\n",
       "    {'period': '2023-01-08', 'ratio': 98.32549},\n",
       "    {'period': '2023-01-09', 'ratio': 90.28508},\n",
       "    {'period': '2023-01-10', 'ratio': 85.98117},\n",
       "    {'period': '2023-01-11', 'ratio': 78.7019},\n",
       "    {'period': '2023-01-12', 'ratio': 78.10683},\n",
       "    {'period': '2023-01-13', 'ratio': 75.97564},\n",
       "    {'period': '2023-01-14', 'ratio': 76.91668},\n",
       "    {'period': '2023-01-15', 'ratio': 87.90478},\n",
       "    {'period': '2023-01-16', 'ratio': 78.93717},\n",
       "    {'period': '2023-01-17', 'ratio': 74.09355},\n",
       "    {'period': '2023-01-18', 'ratio': 70.50927},\n",
       "    {'period': '2023-01-19', 'ratio': 70.5923},\n",
       "    {'period': '2023-01-20', 'ratio': 65.33351},\n",
       "    {'period': '2023-01-21', 'ratio': 74.66094},\n",
       "    {'period': '2023-01-22', 'ratio': 95.91752},\n",
       "    {'period': '2023-01-23', 'ratio': 95.19789},\n",
       "    {'period': '2023-01-24', 'ratio': 94.47827},\n",
       "    {'period': '2023-01-25', 'ratio': 86.64544},\n",
       "    {'period': '2023-01-26', 'ratio': 74.20426},\n",
       "    {'period': '2023-01-27', 'ratio': 94.53362},\n",
       "    {'period': '2023-01-28', 'ratio': 97.4398},\n",
       "    {'period': '2023-01-29', 'ratio': 93.28812},\n",
       "    {'period': '2023-01-30', 'ratio': 100},\n",
       "    {'period': '2023-01-31', 'ratio': 86.86686}]},\n",
       "  {'title': '겨울옷',\n",
       "   'keywords': ['겨울옷'],\n",
       "   'data': [{'period': '2023-01-01', 'ratio': 3.04456},\n",
       "    {'period': '2023-01-02', 'ratio': 3.21062},\n",
       "    {'period': '2023-01-03', 'ratio': 3.01688},\n",
       "    {'period': '2023-01-04', 'ratio': 2.90617},\n",
       "    {'period': '2023-01-05', 'ratio': 2.56019},\n",
       "    {'period': '2023-01-06', 'ratio': 2.60171},\n",
       "    {'period': '2023-01-07', 'ratio': 2.65707},\n",
       "    {'period': '2023-01-08', 'ratio': 2.72626},\n",
       "    {'period': '2023-01-09', 'ratio': 2.42181},\n",
       "    {'period': '2023-01-10', 'ratio': 1.90977},\n",
       "    {'period': '2023-01-11', 'ratio': 1.96512},\n",
       "    {'period': '2023-01-12', 'ratio': 2.22806},\n",
       "    {'period': '2023-01-13', 'ratio': 1.86825},\n",
       "    {'period': '2023-01-14', 'ratio': 1.75754},\n",
       "    {'period': '2023-01-15', 'ratio': 2.20038},\n",
       "    {'period': '2023-01-16', 'ratio': 1.61915},\n",
       "    {'period': '2023-01-17', 'ratio': 1.71602},\n",
       "    {'period': '2023-01-18', 'ratio': 1.78522},\n",
       "    {'period': '2023-01-19', 'ratio': 1.63299},\n",
       "    {'period': '2023-01-20', 'ratio': 1.39773},\n",
       "    {'period': '2023-01-21', 'ratio': 1.34237},\n",
       "    {'period': '2023-01-22', 'ratio': 1.56379},\n",
       "    {'period': '2023-01-23', 'ratio': 1.56379},\n",
       "    {'period': '2023-01-24', 'ratio': 2.46332},\n",
       "    {'period': '2023-01-25', 'ratio': 2.00664},\n",
       "    {'period': '2023-01-26', 'ratio': 2.00664},\n",
       "    {'period': '2023-01-27', 'ratio': 1.60531},\n",
       "    {'period': '2023-01-28', 'ratio': 1.75754},\n",
       "    {'period': '2023-01-29', 'ratio': 1.63299},\n",
       "    {'period': '2023-01-30', 'ratio': 1.68834},\n",
       "    {'period': '2023-01-31', 'ratio': 1.61915}]}]}"
      ]
     },
     "execution_count": 5,
     "metadata": {},
     "output_type": "execute_result"
    }
   ],
   "source": [
    "data"
   ]
  },
  {
   "cell_type": "code",
   "execution_count": 1,
   "id": "b50be1b3",
   "metadata": {},
   "outputs": [],
   "source": [
    "import requests\n",
    "from bs4 import BeautifulSoup\n",
    " \n",
    "import pandas as pd\n",
    "from datetime import datetime\n",
    "import time\n",
    " \n",
    "# selenium import\n",
    "from selenium import webdriver\n",
    "from selenium.webdriver.chrome.options import Options\n",
    "from selenium.webdriver.common.keys import Keys\n",
    "from selenium.webdriver.common.by import By\n",
    "from datetime import datetime, timedelta\n",
    "from selenium.webdriver.chrome.service import Service\n",
    "from webdriver_manager.chrome import ChromeDriverManager"
   ]
  },
  {
   "cell_type": "code",
   "execution_count": 2,
   "id": "901916a5",
   "metadata": {},
   "outputs": [],
   "source": [
    "options = webdriver.ChromeOptions() # 크롬 옵션 객체 생성\n",
    "# options.add_argument('headless') # headless 모드 설정 -> 해당 옵션 적용 시 PDF 다운 불가\n",
    "options.add_argument(\"window-size=1920x1080\") # 화면크기(전체화면)\n",
    "options.add_argument(\"disable-gpu\")\n",
    "options.add_argument(\"disable-infobars\")\n",
    "options.add_argument(\"--disable-extensions\")\n",
    "options.add_argument('--no-sandbox') "
   ]
  },
  {
   "cell_type": "code",
   "execution_count": 4,
   "id": "701aa3da",
   "metadata": {},
   "outputs": [],
   "source": [
    "driver = webdriver.Chrome(options=options)\n",
    "# wait seconds...\n",
    "driver.implicitly_wait(3)"
   ]
  },
  {
   "cell_type": "code",
   "execution_count": 5,
   "id": "e3827acb",
   "metadata": {},
   "outputs": [],
   "source": [
    "# 수집하려는 사이트 경로 입력\n",
    "driver.get('https://brand.naver.com/pmogreenjuice/products/6157332427')\n",
    "time.sleep(3)"
   ]
  },
  {
   "cell_type": "code",
   "execution_count": 6,
   "id": "79466c57",
   "metadata": {},
   "outputs": [],
   "source": [
    "driver.find_element(By.CSS_SELECTOR,'#content > div > div.z7cS6-TO7X > div._27jmWaPaKy > ul > li:nth-child(2) > a').click()\n",
    "time.sleep(3)"
   ]
  },
  {
   "cell_type": "code",
   "execution_count": 7,
   "id": "c8adb0a3",
   "metadata": {},
   "outputs": [
    {
     "ename": "NoSuchElementException",
     "evalue": "Message: no such element: Unable to locate element: {\"method\":\"css selector\",\"selector\":\"#REVIEW > div > div._2LvIMaBiIO > div._2LAwVxx1Sd > div._1txuie7UTH > ul > li:nth-child(2) > a\"}\n  (Session info: chrome=132.0.6834.160); For documentation on this error, please visit: https://www.selenium.dev/documentation/webdriver/troubleshooting/errors#no-such-element-exception\nStacktrace:\n\tGetHandleVerifier [0x00007FF60D4102F5+28725]\n\t(No symbol) [0x00007FF60D372AE0]\n\t(No symbol) [0x00007FF60D20510A]\n\t(No symbol) [0x00007FF60D2593D2]\n\t(No symbol) [0x00007FF60D2595FC]\n\t(No symbol) [0x00007FF60D2A3407]\n\t(No symbol) [0x00007FF60D27FFEF]\n\t(No symbol) [0x00007FF60D2A0181]\n\t(No symbol) [0x00007FF60D27FD53]\n\t(No symbol) [0x00007FF60D24A0E3]\n\t(No symbol) [0x00007FF60D24B471]\n\tGetHandleVerifier [0x00007FF60D73F30D+3366989]\n\tGetHandleVerifier [0x00007FF60D7512F0+3440688]\n\tGetHandleVerifier [0x00007FF60D7478FD+3401277]\n\tGetHandleVerifier [0x00007FF60D4DAAAB+858091]\n\t(No symbol) [0x00007FF60D37E74F]\n\t(No symbol) [0x00007FF60D37A304]\n\t(No symbol) [0x00007FF60D37A49D]\n\t(No symbol) [0x00007FF60D368B69]\n\tBaseThreadInitThunk [0x00007FFC1DDC7BD4+20]\n\tRtlUserThreadStart [0x00007FFC1FD6CED1+33]\n",
     "output_type": "error",
     "traceback": [
      "\u001b[1;31m---------------------------------------------------------------------------\u001b[0m",
      "\u001b[1;31mNoSuchElementException\u001b[0m                    Traceback (most recent call last)",
      "Cell \u001b[1;32mIn[7], line 2\u001b[0m\n\u001b[0;32m      1\u001b[0m \u001b[38;5;66;03m# 최신순 버튼 클릭\u001b[39;00m\n\u001b[1;32m----> 2\u001b[0m \u001b[43mdriver\u001b[49m\u001b[38;5;241;43m.\u001b[39;49m\u001b[43mfind_element\u001b[49m\u001b[43m(\u001b[49m\u001b[43mBy\u001b[49m\u001b[38;5;241;43m.\u001b[39;49m\u001b[43mCSS_SELECTOR\u001b[49m\u001b[43m,\u001b[49m\u001b[38;5;124;43m'\u001b[39;49m\u001b[38;5;124;43m#REVIEW > div > div._2LvIMaBiIO > div._2LAwVxx1Sd > div._1txuie7UTH > ul > li:nth-child(2) > a\u001b[39;49m\u001b[38;5;124;43m'\u001b[39;49m\u001b[43m)\u001b[49m\u001b[38;5;241m.\u001b[39mclick()\n\u001b[0;32m      4\u001b[0m time\u001b[38;5;241m.\u001b[39msleep(\u001b[38;5;241m3\u001b[39m)\n",
      "File \u001b[1;32m~\\anaconda3\\lib\\site-packages\\selenium\\webdriver\\remote\\webdriver.py:888\u001b[0m, in \u001b[0;36mWebDriver.find_element\u001b[1;34m(self, by, value)\u001b[0m\n\u001b[0;32m    885\u001b[0m         \u001b[38;5;28;01mraise\u001b[39;00m NoSuchElementException(\u001b[38;5;124mf\u001b[39m\u001b[38;5;124m\"\u001b[39m\u001b[38;5;124mCannot locate relative element with: \u001b[39m\u001b[38;5;132;01m{\u001b[39;00mby\u001b[38;5;241m.\u001b[39mroot\u001b[38;5;132;01m}\u001b[39;00m\u001b[38;5;124m\"\u001b[39m)\n\u001b[0;32m    886\u001b[0m     \u001b[38;5;28;01mreturn\u001b[39;00m elements[\u001b[38;5;241m0\u001b[39m]\n\u001b[1;32m--> 888\u001b[0m \u001b[38;5;28;01mreturn\u001b[39;00m \u001b[38;5;28;43mself\u001b[39;49m\u001b[38;5;241;43m.\u001b[39;49m\u001b[43mexecute\u001b[49m\u001b[43m(\u001b[49m\u001b[43mCommand\u001b[49m\u001b[38;5;241;43m.\u001b[39;49m\u001b[43mFIND_ELEMENT\u001b[49m\u001b[43m,\u001b[49m\u001b[43m \u001b[49m\u001b[43m{\u001b[49m\u001b[38;5;124;43m\"\u001b[39;49m\u001b[38;5;124;43musing\u001b[39;49m\u001b[38;5;124;43m\"\u001b[39;49m\u001b[43m:\u001b[49m\u001b[43m \u001b[49m\u001b[43mby\u001b[49m\u001b[43m,\u001b[49m\u001b[43m \u001b[49m\u001b[38;5;124;43m\"\u001b[39;49m\u001b[38;5;124;43mvalue\u001b[39;49m\u001b[38;5;124;43m\"\u001b[39;49m\u001b[43m:\u001b[49m\u001b[43m \u001b[49m\u001b[43mvalue\u001b[49m\u001b[43m}\u001b[49m\u001b[43m)\u001b[49m[\u001b[38;5;124m\"\u001b[39m\u001b[38;5;124mvalue\u001b[39m\u001b[38;5;124m\"\u001b[39m]\n",
      "File \u001b[1;32m~\\anaconda3\\lib\\site-packages\\selenium\\webdriver\\remote\\webdriver.py:429\u001b[0m, in \u001b[0;36mWebDriver.execute\u001b[1;34m(self, driver_command, params)\u001b[0m\n\u001b[0;32m    427\u001b[0m response \u001b[38;5;241m=\u001b[39m \u001b[38;5;28mself\u001b[39m\u001b[38;5;241m.\u001b[39mcommand_executor\u001b[38;5;241m.\u001b[39mexecute(driver_command, params)\n\u001b[0;32m    428\u001b[0m \u001b[38;5;28;01mif\u001b[39;00m response:\n\u001b[1;32m--> 429\u001b[0m     \u001b[38;5;28;43mself\u001b[39;49m\u001b[38;5;241;43m.\u001b[39;49m\u001b[43merror_handler\u001b[49m\u001b[38;5;241;43m.\u001b[39;49m\u001b[43mcheck_response\u001b[49m\u001b[43m(\u001b[49m\u001b[43mresponse\u001b[49m\u001b[43m)\u001b[49m\n\u001b[0;32m    430\u001b[0m     response[\u001b[38;5;124m\"\u001b[39m\u001b[38;5;124mvalue\u001b[39m\u001b[38;5;124m\"\u001b[39m] \u001b[38;5;241m=\u001b[39m \u001b[38;5;28mself\u001b[39m\u001b[38;5;241m.\u001b[39m_unwrap_value(response\u001b[38;5;241m.\u001b[39mget(\u001b[38;5;124m\"\u001b[39m\u001b[38;5;124mvalue\u001b[39m\u001b[38;5;124m\"\u001b[39m, \u001b[38;5;28;01mNone\u001b[39;00m))\n\u001b[0;32m    431\u001b[0m     \u001b[38;5;28;01mreturn\u001b[39;00m response\n",
      "File \u001b[1;32m~\\anaconda3\\lib\\site-packages\\selenium\\webdriver\\remote\\errorhandler.py:232\u001b[0m, in \u001b[0;36mErrorHandler.check_response\u001b[1;34m(self, response)\u001b[0m\n\u001b[0;32m    230\u001b[0m         alert_text \u001b[38;5;241m=\u001b[39m value[\u001b[38;5;124m\"\u001b[39m\u001b[38;5;124malert\u001b[39m\u001b[38;5;124m\"\u001b[39m]\u001b[38;5;241m.\u001b[39mget(\u001b[38;5;124m\"\u001b[39m\u001b[38;5;124mtext\u001b[39m\u001b[38;5;124m\"\u001b[39m)\n\u001b[0;32m    231\u001b[0m     \u001b[38;5;28;01mraise\u001b[39;00m exception_class(message, screen, stacktrace, alert_text)  \u001b[38;5;66;03m# type: ignore[call-arg]  # mypy is not smart enough here\u001b[39;00m\n\u001b[1;32m--> 232\u001b[0m \u001b[38;5;28;01mraise\u001b[39;00m exception_class(message, screen, stacktrace)\n",
      "\u001b[1;31mNoSuchElementException\u001b[0m: Message: no such element: Unable to locate element: {\"method\":\"css selector\",\"selector\":\"#REVIEW > div > div._2LvIMaBiIO > div._2LAwVxx1Sd > div._1txuie7UTH > ul > li:nth-child(2) > a\"}\n  (Session info: chrome=132.0.6834.160); For documentation on this error, please visit: https://www.selenium.dev/documentation/webdriver/troubleshooting/errors#no-such-element-exception\nStacktrace:\n\tGetHandleVerifier [0x00007FF60D4102F5+28725]\n\t(No symbol) [0x00007FF60D372AE0]\n\t(No symbol) [0x00007FF60D20510A]\n\t(No symbol) [0x00007FF60D2593D2]\n\t(No symbol) [0x00007FF60D2595FC]\n\t(No symbol) [0x00007FF60D2A3407]\n\t(No symbol) [0x00007FF60D27FFEF]\n\t(No symbol) [0x00007FF60D2A0181]\n\t(No symbol) [0x00007FF60D27FD53]\n\t(No symbol) [0x00007FF60D24A0E3]\n\t(No symbol) [0x00007FF60D24B471]\n\tGetHandleVerifier [0x00007FF60D73F30D+3366989]\n\tGetHandleVerifier [0x00007FF60D7512F0+3440688]\n\tGetHandleVerifier [0x00007FF60D7478FD+3401277]\n\tGetHandleVerifier [0x00007FF60D4DAAAB+858091]\n\t(No symbol) [0x00007FF60D37E74F]\n\t(No symbol) [0x00007FF60D37A304]\n\t(No symbol) [0x00007FF60D37A49D]\n\t(No symbol) [0x00007FF60D368B69]\n\tBaseThreadInitThunk [0x00007FFC1DDC7BD4+20]\n\tRtlUserThreadStart [0x00007FFC1FD6CED1+33]\n"
     ]
    }
   ],
   "source": [
    "# 최신순 버튼 클릭\n",
    "driver.find_element(By.CSS_SELECTOR,'#REVIEW > div > div._2LvIMaBiIO > div._2LAwVxx1Sd > div._1txuie7UTH > ul > li:nth-child(2) > a').click()\n",
    "\n",
    "time.sleep(3)"
   ]
  },
  {
   "cell_type": "code",
   "execution_count": null,
   "id": "c0aa2c3b",
   "metadata": {},
   "outputs": [],
   "source": []
  },
  {
   "cell_type": "code",
   "execution_count": null,
   "id": "6a4c0d17",
   "metadata": {},
   "outputs": [],
   "source": []
  },
  {
   "cell_type": "code",
   "execution_count": null,
   "id": "39ac5a14",
   "metadata": {},
   "outputs": [],
   "source": []
  },
  {
   "cell_type": "code",
   "execution_count": null,
   "id": "bf583e87",
   "metadata": {},
   "outputs": [],
   "source": []
  },
  {
   "cell_type": "code",
   "execution_count": null,
   "id": "2930fde0",
   "metadata": {},
   "outputs": [],
   "source": []
  },
  {
   "cell_type": "code",
   "execution_count": null,
   "id": "64563ac8",
   "metadata": {},
   "outputs": [],
   "source": []
  },
  {
   "cell_type": "code",
   "execution_count": null,
   "id": "da9b88bb",
   "metadata": {},
   "outputs": [],
   "source": []
  },
  {
   "cell_type": "code",
   "execution_count": null,
   "id": "6dc569fe",
   "metadata": {},
   "outputs": [],
   "source": []
  },
  {
   "cell_type": "code",
   "execution_count": null,
   "id": "160b5f9c",
   "metadata": {},
   "outputs": [],
   "source": []
  },
  {
   "cell_type": "code",
   "execution_count": null,
   "id": "b8e4b942",
   "metadata": {},
   "outputs": [],
   "source": []
  },
  {
   "cell_type": "code",
   "execution_count": null,
   "id": "4bafe996",
   "metadata": {},
   "outputs": [],
   "source": []
  },
  {
   "cell_type": "code",
   "execution_count": null,
   "id": "a52745d8",
   "metadata": {},
   "outputs": [],
   "source": []
  },
  {
   "cell_type": "code",
   "execution_count": null,
   "id": "6214b7e7",
   "metadata": {},
   "outputs": [],
   "source": []
  },
  {
   "cell_type": "code",
   "execution_count": null,
   "id": "81588447",
   "metadata": {},
   "outputs": [],
   "source": []
  },
  {
   "cell_type": "code",
   "execution_count": null,
   "id": "11d8c635",
   "metadata": {},
   "outputs": [],
   "source": []
  },
  {
   "cell_type": "code",
   "execution_count": null,
   "id": "f43c0baa",
   "metadata": {},
   "outputs": [],
   "source": []
  },
  {
   "cell_type": "code",
   "execution_count": 4,
   "id": "5de12343",
   "metadata": {},
   "outputs": [
    {
     "name": "stdout",
     "output_type": "stream",
     "text": [
      "Error: 429\n"
     ]
    }
   ],
   "source": []
  }
 ],
 "metadata": {
  "kernelspec": {
   "display_name": "Python 3 (ipykernel)",
   "language": "python",
   "name": "python3"
  },
  "language_info": {
   "codemirror_mode": {
    "name": "ipython",
    "version": 3
   },
   "file_extension": ".py",
   "mimetype": "text/x-python",
   "name": "python",
   "nbconvert_exporter": "python",
   "pygments_lexer": "ipython3",
   "version": "3.10.9"
  },
  "toc": {
   "base_numbering": 1,
   "nav_menu": {},
   "number_sections": true,
   "sideBar": true,
   "skip_h1_title": false,
   "title_cell": "Table of Contents",
   "title_sidebar": "Contents",
   "toc_cell": false,
   "toc_position": {},
   "toc_section_display": true,
   "toc_window_display": false
  }
 },
 "nbformat": 4,
 "nbformat_minor": 5
}
